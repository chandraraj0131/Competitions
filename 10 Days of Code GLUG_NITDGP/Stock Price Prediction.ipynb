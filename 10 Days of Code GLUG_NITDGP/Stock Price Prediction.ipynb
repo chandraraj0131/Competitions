{
 "cells": [
  {
   "cell_type": "markdown",
   "metadata": {},
   "source": [
    "# Stock price prediction. \n",
    "# Final project (StonksMaster) for \"10 Days of Code\" by NIT Durgapur\n",
    "# Plotting real-time stock data and predicting stock fluctuations using standard algorithms."
   ]
  },
  {
   "cell_type": "code",
   "execution_count": 1,
   "metadata": {},
   "outputs": [],
   "source": [
    "import pandas as pd \n",
    "import numpy as np \n",
    "from datetime import datetime\n",
    "import matplotlib.pyplot as plt\n",
    "import seaborn as sns\n",
    "from sklearn.model_selection import train_test_split\n",
    "from sklearn.model_selection import KFold\n",
    "from sklearn.model_selection import cross_val_score\n",
    "from sklearn.tree import DecisionTreeRegressor\n",
    "from sklearn.ensemble import GradientBoostingRegressor\n",
    "from sklearn.svm import SVR\n",
    "from sklearn.neighbors import KNeighborsRegressor\n",
    "from sklearn.linear_model import LinearRegression\n",
    "from pprint import pprint \n",
    "from sklearn.model_selection import RandomizedSearchCV\n",
    "from sklearn.model_selection import GridSearchCV"
   ]
  },
  {
   "cell_type": "code",
   "execution_count": 2,
   "metadata": {},
   "outputs": [],
   "source": [
    "#Using iexcloud api to get the stock prices of AAPL.\n",
    "df = pd.read_csv('AAPL2.csv') "
   ]
  },
  {
   "cell_type": "code",
   "execution_count": 3,
   "metadata": {
    "scrolled": false
   },
   "outputs": [
    {
     "data": {
      "text/html": [
       "<div>\n",
       "<style scoped>\n",
       "    .dataframe tbody tr th:only-of-type {\n",
       "        vertical-align: middle;\n",
       "    }\n",
       "\n",
       "    .dataframe tbody tr th {\n",
       "        vertical-align: top;\n",
       "    }\n",
       "\n",
       "    .dataframe thead th {\n",
       "        text-align: right;\n",
       "    }\n",
       "</style>\n",
       "<table border=\"1\" class=\"dataframe\">\n",
       "  <thead>\n",
       "    <tr style=\"text-align: right;\">\n",
       "      <th></th>\n",
       "      <th>Unnamed: 0</th>\n",
       "      <th>date</th>\n",
       "      <th>open</th>\n",
       "      <th>close</th>\n",
       "      <th>high</th>\n",
       "      <th>low</th>\n",
       "      <th>volume</th>\n",
       "      <th>uOpen</th>\n",
       "      <th>uClose</th>\n",
       "      <th>uHigh</th>\n",
       "      <th>uLow</th>\n",
       "      <th>uVolume</th>\n",
       "      <th>change</th>\n",
       "      <th>changePercent</th>\n",
       "      <th>label</th>\n",
       "      <th>changeOverTime</th>\n",
       "    </tr>\n",
       "  </thead>\n",
       "  <tbody>\n",
       "    <tr>\n",
       "      <th>249</th>\n",
       "      <td>249</td>\n",
       "      <td>2020-10-02</td>\n",
       "      <td>112.89</td>\n",
       "      <td>113.02</td>\n",
       "      <td>115.37</td>\n",
       "      <td>112.22</td>\n",
       "      <td>144711986</td>\n",
       "      <td>112.89</td>\n",
       "      <td>113.02</td>\n",
       "      <td>115.37</td>\n",
       "      <td>112.22</td>\n",
       "      <td>144711986</td>\n",
       "      <td>-3.77</td>\n",
       "      <td>-3.2280</td>\n",
       "      <td>Oct 2, 20</td>\n",
       "      <td>1.014617</td>\n",
       "    </tr>\n",
       "    <tr>\n",
       "      <th>250</th>\n",
       "      <td>250</td>\n",
       "      <td>2020-10-05</td>\n",
       "      <td>113.91</td>\n",
       "      <td>116.50</td>\n",
       "      <td>116.65</td>\n",
       "      <td>113.55</td>\n",
       "      <td>106243839</td>\n",
       "      <td>113.91</td>\n",
       "      <td>116.50</td>\n",
       "      <td>116.65</td>\n",
       "      <td>113.55</td>\n",
       "      <td>106243839</td>\n",
       "      <td>3.48</td>\n",
       "      <td>3.0791</td>\n",
       "      <td>Oct 5, 20</td>\n",
       "      <td>1.076649</td>\n",
       "    </tr>\n",
       "    <tr>\n",
       "      <th>251</th>\n",
       "      <td>251</td>\n",
       "      <td>2020-10-06</td>\n",
       "      <td>115.70</td>\n",
       "      <td>113.16</td>\n",
       "      <td>116.12</td>\n",
       "      <td>112.25</td>\n",
       "      <td>161498212</td>\n",
       "      <td>115.70</td>\n",
       "      <td>113.16</td>\n",
       "      <td>116.12</td>\n",
       "      <td>112.25</td>\n",
       "      <td>161498212</td>\n",
       "      <td>-3.34</td>\n",
       "      <td>-2.8670</td>\n",
       "      <td>Oct 6, 20</td>\n",
       "      <td>1.017112</td>\n",
       "    </tr>\n",
       "    <tr>\n",
       "      <th>252</th>\n",
       "      <td>252</td>\n",
       "      <td>2020-10-07</td>\n",
       "      <td>114.62</td>\n",
       "      <td>115.08</td>\n",
       "      <td>115.55</td>\n",
       "      <td>114.13</td>\n",
       "      <td>96848985</td>\n",
       "      <td>114.62</td>\n",
       "      <td>115.08</td>\n",
       "      <td>115.55</td>\n",
       "      <td>114.13</td>\n",
       "      <td>96848985</td>\n",
       "      <td>1.92</td>\n",
       "      <td>1.6967</td>\n",
       "      <td>Oct 7, 20</td>\n",
       "      <td>1.051337</td>\n",
       "    </tr>\n",
       "    <tr>\n",
       "      <th>253</th>\n",
       "      <td>253</td>\n",
       "      <td>2020-10-08</td>\n",
       "      <td>116.25</td>\n",
       "      <td>114.97</td>\n",
       "      <td>116.40</td>\n",
       "      <td>114.59</td>\n",
       "      <td>83477153</td>\n",
       "      <td>116.25</td>\n",
       "      <td>114.97</td>\n",
       "      <td>116.40</td>\n",
       "      <td>114.59</td>\n",
       "      <td>83477153</td>\n",
       "      <td>-0.11</td>\n",
       "      <td>-0.1000</td>\n",
       "      <td>Oct 8, 20</td>\n",
       "      <td>0.000000</td>\n",
       "    </tr>\n",
       "  </tbody>\n",
       "</table>\n",
       "</div>"
      ],
      "text/plain": [
       "     Unnamed: 0        date    open   close    high     low     volume  \\\n",
       "249         249  2020-10-02  112.89  113.02  115.37  112.22  144711986   \n",
       "250         250  2020-10-05  113.91  116.50  116.65  113.55  106243839   \n",
       "251         251  2020-10-06  115.70  113.16  116.12  112.25  161498212   \n",
       "252         252  2020-10-07  114.62  115.08  115.55  114.13   96848985   \n",
       "253         253  2020-10-08  116.25  114.97  116.40  114.59   83477153   \n",
       "\n",
       "      uOpen  uClose   uHigh    uLow    uVolume  change  changePercent  \\\n",
       "249  112.89  113.02  115.37  112.22  144711986   -3.77        -3.2280   \n",
       "250  113.91  116.50  116.65  113.55  106243839    3.48         3.0791   \n",
       "251  115.70  113.16  116.12  112.25  161498212   -3.34        -2.8670   \n",
       "252  114.62  115.08  115.55  114.13   96848985    1.92         1.6967   \n",
       "253  116.25  114.97  116.40  114.59   83477153   -0.11        -0.1000   \n",
       "\n",
       "         label  changeOverTime  \n",
       "249  Oct 2, 20        1.014617  \n",
       "250  Oct 5, 20        1.076649  \n",
       "251  Oct 6, 20        1.017112  \n",
       "252  Oct 7, 20        1.051337  \n",
       "253  Oct 8, 20        0.000000  "
      ]
     },
     "execution_count": 3,
     "metadata": {},
     "output_type": "execute_result"
    }
   ],
   "source": [
    "df.tail(5)"
   ]
  },
  {
   "cell_type": "markdown",
   "metadata": {},
   "source": [
    "## Here we have the dataset which contains the opening and closing prices of Apple's stocks for the a year before the current day, day wise. \n",
    "## \"high\" and \"low\" are the highest and the lowest prices for the stocks for that particular day. \n",
    "## \"volume\" represents the number of stocks that were bought that day. \n",
    "## \"change percentage\" is percentage change of the closing price with respect to the last day's closing price.  "
   ]
  },
  {
   "cell_type": "code",
   "execution_count": 4,
   "metadata": {
    "scrolled": true
   },
   "outputs": [
    {
     "data": {
      "text/plain": [
       "dtype('O')"
      ]
     },
     "execution_count": 4,
     "metadata": {},
     "output_type": "execute_result"
    }
   ],
   "source": [
    "df.date.dtype"
   ]
  },
  {
   "cell_type": "markdown",
   "metadata": {},
   "source": [
    "### Here the datatype of \"date\" column is datetime64. "
   ]
  },
  {
   "cell_type": "markdown",
   "metadata": {},
   "source": [
    "### The datetime datatype cannot be passed into a linear regression model. This happens becuase Linear Regression cannot assign coefficient to the date feature as it doesn't comprehend the datetime64 datatype well. Therefore we need is to make the datetime object as numerical value and then feed that into the model. \n",
    "### So I would take months of the year, from intuition, as my feature which relates to the date column. "
   ]
  },
  {
   "cell_type": "code",
   "execution_count": 5,
   "metadata": {},
   "outputs": [],
   "source": [
    "s = pd.to_datetime(df['date'])\n",
    "df['date'] = s.dt.strftime(\"%m\")          #This returns 2020-10-2 as 202010 (YearMonth)"
   ]
  },
  {
   "cell_type": "code",
   "execution_count": 6,
   "metadata": {
    "scrolled": true
   },
   "outputs": [
    {
     "data": {
      "text/plain": [
       "dtype('int64')"
      ]
     },
     "execution_count": 6,
     "metadata": {},
     "output_type": "execute_result"
    }
   ],
   "source": [
    "df.date = df.date.astype('int64')\n",
    "df.date.dtype"
   ]
  },
  {
   "cell_type": "code",
   "execution_count": 7,
   "metadata": {
    "scrolled": false
   },
   "outputs": [
    {
     "data": {
      "text/html": [
       "<div>\n",
       "<style scoped>\n",
       "    .dataframe tbody tr th:only-of-type {\n",
       "        vertical-align: middle;\n",
       "    }\n",
       "\n",
       "    .dataframe tbody tr th {\n",
       "        vertical-align: top;\n",
       "    }\n",
       "\n",
       "    .dataframe thead th {\n",
       "        text-align: right;\n",
       "    }\n",
       "</style>\n",
       "<table border=\"1\" class=\"dataframe\">\n",
       "  <thead>\n",
       "    <tr style=\"text-align: right;\">\n",
       "      <th></th>\n",
       "      <th>Unnamed: 0</th>\n",
       "      <th>date</th>\n",
       "      <th>open</th>\n",
       "      <th>close</th>\n",
       "      <th>high</th>\n",
       "      <th>low</th>\n",
       "      <th>volume</th>\n",
       "      <th>uOpen</th>\n",
       "      <th>uClose</th>\n",
       "      <th>uHigh</th>\n",
       "      <th>uLow</th>\n",
       "      <th>uVolume</th>\n",
       "      <th>change</th>\n",
       "      <th>changePercent</th>\n",
       "      <th>label</th>\n",
       "      <th>changeOverTime</th>\n",
       "    </tr>\n",
       "  </thead>\n",
       "  <tbody>\n",
       "    <tr>\n",
       "      <th>249</th>\n",
       "      <td>249</td>\n",
       "      <td>10</td>\n",
       "      <td>112.89</td>\n",
       "      <td>113.02</td>\n",
       "      <td>115.37</td>\n",
       "      <td>112.22</td>\n",
       "      <td>144711986</td>\n",
       "      <td>112.89</td>\n",
       "      <td>113.02</td>\n",
       "      <td>115.37</td>\n",
       "      <td>112.22</td>\n",
       "      <td>144711986</td>\n",
       "      <td>-3.77</td>\n",
       "      <td>-3.2280</td>\n",
       "      <td>Oct 2, 20</td>\n",
       "      <td>1.014617</td>\n",
       "    </tr>\n",
       "    <tr>\n",
       "      <th>250</th>\n",
       "      <td>250</td>\n",
       "      <td>10</td>\n",
       "      <td>113.91</td>\n",
       "      <td>116.50</td>\n",
       "      <td>116.65</td>\n",
       "      <td>113.55</td>\n",
       "      <td>106243839</td>\n",
       "      <td>113.91</td>\n",
       "      <td>116.50</td>\n",
       "      <td>116.65</td>\n",
       "      <td>113.55</td>\n",
       "      <td>106243839</td>\n",
       "      <td>3.48</td>\n",
       "      <td>3.0791</td>\n",
       "      <td>Oct 5, 20</td>\n",
       "      <td>1.076649</td>\n",
       "    </tr>\n",
       "    <tr>\n",
       "      <th>251</th>\n",
       "      <td>251</td>\n",
       "      <td>10</td>\n",
       "      <td>115.70</td>\n",
       "      <td>113.16</td>\n",
       "      <td>116.12</td>\n",
       "      <td>112.25</td>\n",
       "      <td>161498212</td>\n",
       "      <td>115.70</td>\n",
       "      <td>113.16</td>\n",
       "      <td>116.12</td>\n",
       "      <td>112.25</td>\n",
       "      <td>161498212</td>\n",
       "      <td>-3.34</td>\n",
       "      <td>-2.8670</td>\n",
       "      <td>Oct 6, 20</td>\n",
       "      <td>1.017112</td>\n",
       "    </tr>\n",
       "    <tr>\n",
       "      <th>252</th>\n",
       "      <td>252</td>\n",
       "      <td>10</td>\n",
       "      <td>114.62</td>\n",
       "      <td>115.08</td>\n",
       "      <td>115.55</td>\n",
       "      <td>114.13</td>\n",
       "      <td>96848985</td>\n",
       "      <td>114.62</td>\n",
       "      <td>115.08</td>\n",
       "      <td>115.55</td>\n",
       "      <td>114.13</td>\n",
       "      <td>96848985</td>\n",
       "      <td>1.92</td>\n",
       "      <td>1.6967</td>\n",
       "      <td>Oct 7, 20</td>\n",
       "      <td>1.051337</td>\n",
       "    </tr>\n",
       "    <tr>\n",
       "      <th>253</th>\n",
       "      <td>253</td>\n",
       "      <td>10</td>\n",
       "      <td>116.25</td>\n",
       "      <td>114.97</td>\n",
       "      <td>116.40</td>\n",
       "      <td>114.59</td>\n",
       "      <td>83477153</td>\n",
       "      <td>116.25</td>\n",
       "      <td>114.97</td>\n",
       "      <td>116.40</td>\n",
       "      <td>114.59</td>\n",
       "      <td>83477153</td>\n",
       "      <td>-0.11</td>\n",
       "      <td>-0.1000</td>\n",
       "      <td>Oct 8, 20</td>\n",
       "      <td>0.000000</td>\n",
       "    </tr>\n",
       "  </tbody>\n",
       "</table>\n",
       "</div>"
      ],
      "text/plain": [
       "     Unnamed: 0  date    open   close    high     low     volume   uOpen  \\\n",
       "249         249    10  112.89  113.02  115.37  112.22  144711986  112.89   \n",
       "250         250    10  113.91  116.50  116.65  113.55  106243839  113.91   \n",
       "251         251    10  115.70  113.16  116.12  112.25  161498212  115.70   \n",
       "252         252    10  114.62  115.08  115.55  114.13   96848985  114.62   \n",
       "253         253    10  116.25  114.97  116.40  114.59   83477153  116.25   \n",
       "\n",
       "     uClose   uHigh    uLow    uVolume  change  changePercent      label  \\\n",
       "249  113.02  115.37  112.22  144711986   -3.77        -3.2280  Oct 2, 20   \n",
       "250  116.50  116.65  113.55  106243839    3.48         3.0791  Oct 5, 20   \n",
       "251  113.16  116.12  112.25  161498212   -3.34        -2.8670  Oct 6, 20   \n",
       "252  115.08  115.55  114.13   96848985    1.92         1.6967  Oct 7, 20   \n",
       "253  114.97  116.40  114.59   83477153   -0.11        -0.1000  Oct 8, 20   \n",
       "\n",
       "     changeOverTime  \n",
       "249        1.014617  \n",
       "250        1.076649  \n",
       "251        1.017112  \n",
       "252        1.051337  \n",
       "253        0.000000  "
      ]
     },
     "execution_count": 7,
     "metadata": {},
     "output_type": "execute_result"
    }
   ],
   "source": [
    "df.tail(5)"
   ]
  },
  {
   "cell_type": "code",
   "execution_count": 8,
   "metadata": {},
   "outputs": [
    {
     "data": {
      "text/html": [
       "<div>\n",
       "<style scoped>\n",
       "    .dataframe tbody tr th:only-of-type {\n",
       "        vertical-align: middle;\n",
       "    }\n",
       "\n",
       "    .dataframe tbody tr th {\n",
       "        vertical-align: top;\n",
       "    }\n",
       "\n",
       "    .dataframe thead th {\n",
       "        text-align: right;\n",
       "    }\n",
       "</style>\n",
       "<table border=\"1\" class=\"dataframe\">\n",
       "  <thead>\n",
       "    <tr style=\"text-align: right;\">\n",
       "      <th></th>\n",
       "      <th>YearMonth</th>\n",
       "      <th>open</th>\n",
       "      <th>close</th>\n",
       "      <th>high</th>\n",
       "      <th>low</th>\n",
       "    </tr>\n",
       "  </thead>\n",
       "  <tbody>\n",
       "    <tr>\n",
       "      <th>0</th>\n",
       "      <td>10</td>\n",
       "      <td>56.46</td>\n",
       "      <td>56.10</td>\n",
       "      <td>57.02</td>\n",
       "      <td>56.08</td>\n",
       "    </tr>\n",
       "    <tr>\n",
       "      <th>1</th>\n",
       "      <td>10</td>\n",
       "      <td>56.76</td>\n",
       "      <td>56.76</td>\n",
       "      <td>56.95</td>\n",
       "      <td>56.41</td>\n",
       "    </tr>\n",
       "    <tr>\n",
       "      <th>2</th>\n",
       "      <td>10</td>\n",
       "      <td>56.98</td>\n",
       "      <td>57.52</td>\n",
       "      <td>57.61</td>\n",
       "      <td>56.83</td>\n",
       "    </tr>\n",
       "    <tr>\n",
       "      <th>3</th>\n",
       "      <td>10</td>\n",
       "      <td>58.24</td>\n",
       "      <td>59.05</td>\n",
       "      <td>59.41</td>\n",
       "      <td>58.08</td>\n",
       "    </tr>\n",
       "    <tr>\n",
       "      <th>4</th>\n",
       "      <td>10</td>\n",
       "      <td>58.73</td>\n",
       "      <td>58.97</td>\n",
       "      <td>59.53</td>\n",
       "      <td>58.67</td>\n",
       "    </tr>\n",
       "    <tr>\n",
       "      <th>...</th>\n",
       "      <td>...</td>\n",
       "      <td>...</td>\n",
       "      <td>...</td>\n",
       "      <td>...</td>\n",
       "      <td>...</td>\n",
       "    </tr>\n",
       "    <tr>\n",
       "      <th>249</th>\n",
       "      <td>10</td>\n",
       "      <td>112.89</td>\n",
       "      <td>113.02</td>\n",
       "      <td>115.37</td>\n",
       "      <td>112.22</td>\n",
       "    </tr>\n",
       "    <tr>\n",
       "      <th>250</th>\n",
       "      <td>10</td>\n",
       "      <td>113.91</td>\n",
       "      <td>116.50</td>\n",
       "      <td>116.65</td>\n",
       "      <td>113.55</td>\n",
       "    </tr>\n",
       "    <tr>\n",
       "      <th>251</th>\n",
       "      <td>10</td>\n",
       "      <td>115.70</td>\n",
       "      <td>113.16</td>\n",
       "      <td>116.12</td>\n",
       "      <td>112.25</td>\n",
       "    </tr>\n",
       "    <tr>\n",
       "      <th>252</th>\n",
       "      <td>10</td>\n",
       "      <td>114.62</td>\n",
       "      <td>115.08</td>\n",
       "      <td>115.55</td>\n",
       "      <td>114.13</td>\n",
       "    </tr>\n",
       "    <tr>\n",
       "      <th>253</th>\n",
       "      <td>10</td>\n",
       "      <td>116.25</td>\n",
       "      <td>114.97</td>\n",
       "      <td>116.40</td>\n",
       "      <td>114.59</td>\n",
       "    </tr>\n",
       "  </tbody>\n",
       "</table>\n",
       "<p>254 rows × 5 columns</p>\n",
       "</div>"
      ],
      "text/plain": [
       "     YearMonth    open   close    high     low\n",
       "0           10   56.46   56.10   57.02   56.08\n",
       "1           10   56.76   56.76   56.95   56.41\n",
       "2           10   56.98   57.52   57.61   56.83\n",
       "3           10   58.24   59.05   59.41   58.08\n",
       "4           10   58.73   58.97   59.53   58.67\n",
       "..         ...     ...     ...     ...     ...\n",
       "249         10  112.89  113.02  115.37  112.22\n",
       "250         10  113.91  116.50  116.65  113.55\n",
       "251         10  115.70  113.16  116.12  112.25\n",
       "252         10  114.62  115.08  115.55  114.13\n",
       "253         10  116.25  114.97  116.40  114.59\n",
       "\n",
       "[254 rows x 5 columns]"
      ]
     },
     "execution_count": 8,
     "metadata": {},
     "output_type": "execute_result"
    }
   ],
   "source": [
    "drop_columns = ['volume', 'uOpen', 'uClose', 'uHigh', 'uLow', \n",
    "                'uVolume', 'change', 'changePercent', 'label', 'changeOverTime', 'Unnamed: 0']\n",
    "df.drop(drop_columns, axis = 1, inplace = True)\n",
    "df.rename(columns = {'date':'YearMonth'})"
   ]
  },
  {
   "cell_type": "code",
   "execution_count": 9,
   "metadata": {
    "scrolled": false
   },
   "outputs": [
    {
     "name": "stdout",
     "output_type": "stream",
     "text": [
      "<class 'pandas.core.frame.DataFrame'>\n",
      "RangeIndex: 254 entries, 0 to 253\n",
      "Data columns (total 5 columns):\n",
      " #   Column  Non-Null Count  Dtype  \n",
      "---  ------  --------------  -----  \n",
      " 0   date    254 non-null    int64  \n",
      " 1   open    254 non-null    float64\n",
      " 2   close   254 non-null    float64\n",
      " 3   high    254 non-null    float64\n",
      " 4   low     254 non-null    float64\n",
      "dtypes: float64(4), int64(1)\n",
      "memory usage: 10.0 KB\n"
     ]
    },
    {
     "data": {
      "text/plain": [
       "None"
      ]
     },
     "metadata": {},
     "output_type": "display_data"
    },
    {
     "data": {
      "text/html": [
       "<div>\n",
       "<style scoped>\n",
       "    .dataframe tbody tr th:only-of-type {\n",
       "        vertical-align: middle;\n",
       "    }\n",
       "\n",
       "    .dataframe tbody tr th {\n",
       "        vertical-align: top;\n",
       "    }\n",
       "\n",
       "    .dataframe thead th {\n",
       "        text-align: right;\n",
       "    }\n",
       "</style>\n",
       "<table border=\"1\" class=\"dataframe\">\n",
       "  <thead>\n",
       "    <tr style=\"text-align: right;\">\n",
       "      <th></th>\n",
       "      <th>date</th>\n",
       "      <th>open</th>\n",
       "      <th>close</th>\n",
       "      <th>high</th>\n",
       "      <th>low</th>\n",
       "    </tr>\n",
       "  </thead>\n",
       "  <tbody>\n",
       "    <tr>\n",
       "      <th>0</th>\n",
       "      <td>10</td>\n",
       "      <td>56.46</td>\n",
       "      <td>56.10</td>\n",
       "      <td>57.02</td>\n",
       "      <td>56.08</td>\n",
       "    </tr>\n",
       "    <tr>\n",
       "      <th>1</th>\n",
       "      <td>10</td>\n",
       "      <td>56.76</td>\n",
       "      <td>56.76</td>\n",
       "      <td>56.95</td>\n",
       "      <td>56.41</td>\n",
       "    </tr>\n",
       "    <tr>\n",
       "      <th>2</th>\n",
       "      <td>10</td>\n",
       "      <td>56.98</td>\n",
       "      <td>57.52</td>\n",
       "      <td>57.61</td>\n",
       "      <td>56.83</td>\n",
       "    </tr>\n",
       "    <tr>\n",
       "      <th>3</th>\n",
       "      <td>10</td>\n",
       "      <td>58.24</td>\n",
       "      <td>59.05</td>\n",
       "      <td>59.41</td>\n",
       "      <td>58.08</td>\n",
       "    </tr>\n",
       "    <tr>\n",
       "      <th>4</th>\n",
       "      <td>10</td>\n",
       "      <td>58.73</td>\n",
       "      <td>58.97</td>\n",
       "      <td>59.53</td>\n",
       "      <td>58.67</td>\n",
       "    </tr>\n",
       "  </tbody>\n",
       "</table>\n",
       "</div>"
      ],
      "text/plain": [
       "   date   open  close   high    low\n",
       "0    10  56.46  56.10  57.02  56.08\n",
       "1    10  56.76  56.76  56.95  56.41\n",
       "2    10  56.98  57.52  57.61  56.83\n",
       "3    10  58.24  59.05  59.41  58.08\n",
       "4    10  58.73  58.97  59.53  58.67"
      ]
     },
     "metadata": {},
     "output_type": "display_data"
    }
   ],
   "source": [
    "display(df.info())\n",
    "display(df.head())"
   ]
  },
  {
   "cell_type": "code",
   "execution_count": 10,
   "metadata": {},
   "outputs": [
    {
     "data": {
      "text/plain": [
       "<AxesSubplot:>"
      ]
     },
     "execution_count": 10,
     "metadata": {},
     "output_type": "execute_result"
    },
    {
     "data": {
      "image/png": "[encoded data removed]",
      "text/plain": [
       "<Figure size 432x288 with 2 Axes>"
      ]
     },
     "metadata": {
      "needs_background": "light"
     },
     "output_type": "display_data"
    }
   ],
   "source": [
    "corr = abs(df.corr())\n",
    "sns.heatmap(corr)"
   ]
  },
  {
   "cell_type": "markdown",
   "metadata": {},
   "source": [
    "## The correlation map doesn't really give any useful insights apart from what we expeceted from the basic understandings stocks and terms related to it."
   ]
  },
  {
   "cell_type": "code",
   "execution_count": 11,
   "metadata": {},
   "outputs": [],
   "source": [
    "df.date = (df.date-df.date.mean())/df.date.std()        #Normalizing the YearMonth column"
   ]
  },
  {
   "cell_type": "code",
   "execution_count": 12,
   "metadata": {},
   "outputs": [],
   "source": [
    "Y = df.open                                          #Separating the taget variable from the features \n",
    "df.drop('open', axis = 1, inplace = True)\n",
    "X = df"
   ]
  },
  {
   "cell_type": "code",
   "execution_count": 13,
   "metadata": {
    "scrolled": true
   },
   "outputs": [
    {
     "data": {
      "image/png": "[encoded data removed]",
      "text/plain": [
       "<Figure size 1080x576 with 1 Axes>"
      ]
     },
     "metadata": {
      "needs_background": "light"
     },
     "output_type": "display_data"
    }
   ],
   "source": [
    "#Plotting history of opening prices for AAPL\n",
    "plt.figure(figsize=(15,8))\n",
    "plt.plot(Y, color=\"black\")\n",
    "plt.title('Opening Price history')\n",
    "plt.ylabel('Opening Price')\n",
    "plt.xlabel('Days')\n",
    "plt.show()"
   ]
  },
  {
   "cell_type": "code",
   "execution_count": 14,
   "metadata": {},
   "outputs": [],
   "source": [
    "xtrain, xtest, ytrain, ytest = train_test_split(X, Y, random_state = 14, test_size = .2)"
   ]
  },
  {
   "cell_type": "code",
   "execution_count": 15,
   "metadata": {
    "scrolled": false
   },
   "outputs": [
    {
     "name": "stdout",
     "output_type": "stream",
     "text": [
      "For KNeighborsRegressor() the r2 score is [0.99531395 0.98983922 0.99530758 0.99591081 0.99651869]\n",
      "For GradientBoostingRegressor() the r2 score is [0.99498726 0.99375089 0.99483844 0.99434302 0.99711331]\n",
      "For LinearRegression() the r2 score is [0.99855103 0.99845096 0.9980742  0.99716475 0.99781439]\n",
      "For SVR() the r2 score is [0.94473526 0.97043356 0.97297416 0.97565527 0.93424826]\n",
      "For DecisionTreeRegressor() the r2 score is [0.99338213 0.98873638 0.99527412 0.99419782 0.99581738]\n"
     ]
    }
   ],
   "source": [
    "models = [KNeighborsRegressor(), GradientBoostingRegressor(),\n",
    "          LinearRegression(), SVR(), DecisionTreeRegressor()]\n",
    "for model in models:\n",
    "    kfold = KFold(n_splits=5, random_state= 14, shuffle=True)\n",
    "    result = cross_val_score(model, xtrain, ytrain, \n",
    "                             cv=kfold, scoring = 'r2')\n",
    "    print(\"For\", model, \"the r2 score is\",result)"
   ]
  },
  {
   "cell_type": "markdown",
   "metadata": {},
   "source": [
    "# Linear Regresssion "
   ]
  },
  {
   "cell_type": "code",
   "execution_count": 16,
   "metadata": {},
   "outputs": [],
   "source": [
    "lr = LinearRegression(normalize=True, copy_X=True)\n",
    "lr.fit(xtrain,ytrain)\n",
    "predict = lr.predict(X)"
   ]
  },
  {
   "cell_type": "code",
   "execution_count": 17,
   "metadata": {},
   "outputs": [
    {
     "data": {
      "text/plain": [
       "array([ 0.10587213, -0.38930633,  0.76292969,  0.63035242])"
      ]
     },
     "execution_count": 17,
     "metadata": {},
     "output_type": "execute_result"
    }
   ],
   "source": [
    "lr.coef_"
   ]
  },
  {
   "cell_type": "code",
   "execution_count": 18,
   "metadata": {
    "scrolled": false
   },
   "outputs": [
    {
     "name": "stdout",
     "output_type": "stream",
     "text": [
      "R^2: 0.9982197890610504\n"
     ]
    }
   ],
   "source": [
    "from sklearn import metrics\n",
    "print('R^2:',metrics.r2_score(Y, predict))"
   ]
  },
  {
   "cell_type": "code",
   "execution_count": 19,
   "metadata": {},
   "outputs": [
    {
     "data": {
      "image/png": "[encoded data removed]",
      "text/plain": [
       "<Figure size 936x432 with 2 Axes>"
      ]
     },
     "metadata": {
      "needs_background": "light"
     },
     "output_type": "display_data"
    }
   ],
   "source": [
    "fig, ax1 = plt.subplots(figsize=(13,6))\n",
    "ax1.set_xlabel('Days')\n",
    "ax1.set_ylabel('Actual Price')\n",
    "ax1.plot(Y, color = 'black')\n",
    "\n",
    "ax2 = ax1.twinx()\n",
    "ax2.set_ylabel('Predicted Price', color ='red')\n",
    "ax2.tick_params(axis='y', colors='red')\n",
    "ax2.plot(predict, color = 'red')\n",
    "plt.show()"
   ]
  },
  {
   "cell_type": "markdown",
   "metadata": {},
   "source": [
    "# Gradient Boosting Regressor "
   ]
  },
  {
   "cell_type": "code",
   "execution_count": 20,
   "metadata": {
    "scrolled": true
   },
   "outputs": [
    {
     "name": "stdout",
     "output_type": "stream",
     "text": [
      "{'alpha': 0.9,\n",
      " 'ccp_alpha': 0.0,\n",
      " 'criterion': 'friedman_mse',\n",
      " 'init': None,\n",
      " 'learning_rate': 0.1,\n",
      " 'loss': 'ls',\n",
      " 'max_depth': 3,\n",
      " 'max_features': None,\n",
      " 'max_leaf_nodes': None,\n",
      " 'min_impurity_decrease': 0.0,\n",
      " 'min_impurity_split': None,\n",
      " 'min_samples_leaf': 1,\n",
      " 'min_samples_split': 2,\n",
      " 'min_weight_fraction_leaf': 0.0,\n",
      " 'n_estimators': 100,\n",
      " 'n_iter_no_change': None,\n",
      " 'presort': 'deprecated',\n",
      " 'random_state': None,\n",
      " 'subsample': 1.0,\n",
      " 'tol': 0.0001,\n",
      " 'validation_fraction': 0.1,\n",
      " 'verbose': 0,\n",
      " 'warm_start': False}\n"
     ]
    }
   ],
   "source": [
    "gbr = GradientBoostingRegressor()\n",
    "pprint(gbr.get_params())                    #Getting the hyperparameters which can be tuned for a better model"
   ]
  },
  {
   "cell_type": "markdown",
   "metadata": {},
   "source": [
    "### Using RandomSearchCV to get range of optimum values of hyperparameters "
   ]
  },
  {
   "cell_type": "code",
   "execution_count": 21,
   "metadata": {
    "scrolled": true
   },
   "outputs": [
    {
     "name": "stdout",
     "output_type": "stream",
     "text": [
      "{'criterion': ['friedman_mse', 'mse'],\n",
      " 'learning_rate': [0.01, 0.03, 0.3, 1],\n",
      " 'max_depth': [3, 5, 10, 15],\n",
      " 'min_samples_leaf': [2, 3, 4],\n",
      " 'n_estimators': [25, 50, 100, 150, 200, 300]}\n"
     ]
    }
   ],
   "source": [
    "random_grid = {'n_estimators': [25,50,100,150,200,300],\n",
    "               'max_depth': [3,5,10,15],\n",
    "               'min_samples_leaf': [2, 3, 4],\n",
    "               'learning_rate' : [.01,.03,.3,1],\n",
    "               'criterion' : ['friedman_mse','mse']}\n",
    "pprint(random_grid)"
   ]
  },
  {
   "cell_type": "code",
   "execution_count": 22,
   "metadata": {},
   "outputs": [],
   "source": [
    "gbr_random = RandomizedSearchCV(estimator = gbr, param_distributions = random_grid,\n",
    "                                n_iter = 100, cv = 5, random_state=14, verbose = 0)"
   ]
  },
  {
   "cell_type": "code",
   "execution_count": 23,
   "metadata": {},
   "outputs": [
    {
     "data": {
      "text/plain": [
       "RandomizedSearchCV(cv=5, estimator=GradientBoostingRegressor(), n_iter=100,\n",
       "                   param_distributions={'criterion': ['friedman_mse', 'mse'],\n",
       "                                        'learning_rate': [0.01, 0.03, 0.3, 1],\n",
       "                                        'max_depth': [3, 5, 10, 15],\n",
       "                                        'min_samples_leaf': [2, 3, 4],\n",
       "                                        'n_estimators': [25, 50, 100, 150, 200,\n",
       "                                                         300]},\n",
       "                   random_state=14)"
      ]
     },
     "execution_count": 23,
     "metadata": {},
     "output_type": "execute_result"
    }
   ],
   "source": [
    "gbr_random.fit(xtrain, ytrain)"
   ]
  },
  {
   "cell_type": "code",
   "execution_count": 24,
   "metadata": {},
   "outputs": [
    {
     "data": {
      "text/plain": [
       "{'n_estimators': 100,\n",
       " 'min_samples_leaf': 3,\n",
       " 'max_depth': 15,\n",
       " 'learning_rate': 0.3,\n",
       " 'criterion': 'mse'}"
      ]
     },
     "execution_count": 24,
     "metadata": {},
     "output_type": "execute_result"
    }
   ],
   "source": [
    "gbr_random.best_params_                     #Best parameters found by the RandomSearchCV"
   ]
  },
  {
   "cell_type": "markdown",
   "metadata": {},
   "source": [
    "### With small datasets and limited number of features GridSearchCV provides a very accurate model. "
   ]
  },
  {
   "cell_type": "code",
   "execution_count": 25,
   "metadata": {},
   "outputs": [
    {
     "name": "stdout",
     "output_type": "stream",
     "text": [
      "{'criterion': ['friedman_mse'],\n",
      " 'learning_rate': [0.1, 0.1, 0.3],\n",
      " 'max_depth': [10, 15, 17, 20],\n",
      " 'min_samples_leaf': [3, 4, 5],\n",
      " 'n_estimators': [150, 200, 100]}\n"
     ]
    }
   ],
   "source": [
    "grid_param = {'n_estimators': [150,200,100],\n",
    "               'max_depth': [10,15,17,20],\n",
    "               'min_samples_leaf': [3, 4,5],\n",
    "               'learning_rate' : [.1,0.1,0.3],\n",
    "               'criterion' : ['friedman_mse']}\n",
    "pprint(grid_param)"
   ]
  },
  {
   "cell_type": "code",
   "execution_count": 26,
   "metadata": {},
   "outputs": [],
   "source": [
    "grid_search =  GridSearchCV(estimator = gbr, param_grid = grid_param, \n",
    "                          cv = 3, verbose = 0)"
   ]
  },
  {
   "cell_type": "code",
   "execution_count": 27,
   "metadata": {},
   "outputs": [
    {
     "data": {
      "text/plain": [
       "GridSearchCV(cv=3, estimator=GradientBoostingRegressor(),\n",
       "             param_grid={'criterion': ['friedman_mse'],\n",
       "                         'learning_rate': [0.1, 0.1, 0.3],\n",
       "                         'max_depth': [10, 15, 17, 20],\n",
       "                         'min_samples_leaf': [3, 4, 5],\n",
       "                         'n_estimators': [150, 200, 100]})"
      ]
     },
     "execution_count": 27,
     "metadata": {},
     "output_type": "execute_result"
    }
   ],
   "source": [
    "grid_search.fit(xtrain, ytrain)"
   ]
  },
  {
   "cell_type": "code",
   "execution_count": 28,
   "metadata": {},
   "outputs": [
    {
     "data": {
      "text/plain": [
       "{'criterion': 'friedman_mse',\n",
       " 'learning_rate': 0.3,\n",
       " 'max_depth': 17,\n",
       " 'min_samples_leaf': 3,\n",
       " 'n_estimators': 100}"
      ]
     },
     "execution_count": 28,
     "metadata": {},
     "output_type": "execute_result"
    }
   ],
   "source": [
    "grid_search.best_params_                     #These are the best parameters for the Gradient Boosting Regressor "
   ]
  },
  {
   "cell_type": "code",
   "execution_count": 29,
   "metadata": {},
   "outputs": [],
   "source": [
    "best_params = grid_search.best_params_ "
   ]
  },
  {
   "cell_type": "code",
   "execution_count": 30,
   "metadata": {},
   "outputs": [],
   "source": [
    "gbr_final = GradientBoostingRegressor(n_estimators=best_params['n_estimators'], \n",
    "                               criterion=best_params['criterion'], learning_rate = best_params['learning_rate'], \n",
    "                               max_depth=best_params['max_depth'], min_samples_leaf=best_params['min_samples_leaf'])"
   ]
  },
  {
   "cell_type": "code",
   "execution_count": 31,
   "metadata": {},
   "outputs": [
    {
     "data": {
      "text/plain": [
       "GradientBoostingRegressor(learning_rate=0.3, max_depth=17, min_samples_leaf=3)"
      ]
     },
     "execution_count": 31,
     "metadata": {},
     "output_type": "execute_result"
    }
   ],
   "source": [
    "gbr_final.fit(xtrain,ytrain)"
   ]
  },
  {
   "cell_type": "code",
   "execution_count": 32,
   "metadata": {},
   "outputs": [],
   "source": [
    "predict = gbr_final.predict(X)"
   ]
  },
  {
   "cell_type": "code",
   "execution_count": 33,
   "metadata": {},
   "outputs": [
    {
     "name": "stdout",
     "output_type": "stream",
     "text": [
      "R^2: 0.9991697441037971\n"
     ]
    }
   ],
   "source": [
    "from sklearn import metrics\n",
    "print('R^2:',metrics.r2_score(Y, predict))"
   ]
  },
  {
   "cell_type": "code",
   "execution_count": 34,
   "metadata": {
    "scrolled": true
   },
   "outputs": [
    {
     "data": {
      "image/png": "[encoded data removed]",
      "text/plain": [
       "<Figure size 864x432 with 2 Axes>"
      ]
     },
     "metadata": {
      "needs_background": "light"
     },
     "output_type": "display_data"
    }
   ],
   "source": [
    "fig, ax1 = plt.subplots(figsize=(12,6))\n",
    "ax1.set_xlabel('Days')\n",
    "ax1.set_ylabel('Actual Prices')\n",
    "ax1.plot(Y, color = 'black')\n",
    "\n",
    "ax2 = ax1.twinx()\n",
    "ax2.set_ylabel('Predicted Price', color ='red')\n",
    "ax2.plot(predict, color = 'red')\n",
    "ax2.tick_params(axis='y', colors='red')\n",
    "plt.show()"
   ]
  },
  {
   "cell_type": "markdown",
   "metadata": {},
   "source": [
    "## Our model predicts prices pretty well based on the history of our chosen features. "
   ]
  },
  {
   "cell_type": "markdown",
   "metadata": {},
   "source": [
    "# Using LSTM to predict stock prices"
   ]
  },
  {
   "cell_type": "code",
   "execution_count": 35,
   "metadata": {},
   "outputs": [],
   "source": [
    "import math\n",
    "import keras\n",
    "from keras.models import Sequential\n",
    "from keras.layers import Dense\n",
    "from keras.layers import LSTM\n",
    "from keras.layers import Dropout\n",
    "from keras.layers import *\n",
    "from sklearn.preprocessing import MinMaxScaler\n",
    "from sklearn.metrics import mean_squared_error\n",
    "from sklearn.metrics import mean_absolute_error\n",
    "from keras.callbacks import EarlyStopping\n",
    "from keras.optimizers import Adam"
   ]
  },
  {
   "cell_type": "code",
   "execution_count": 36,
   "metadata": {
    "scrolled": true
   },
   "outputs": [],
   "source": [
    "df = pd.read_csv('MSFT.csv')        #Stock prices from 2015-11-25 to 2020-11-23. 5 years. \n",
    "df= df['Close']                     #Using Close prices for predictions        "
   ]
  },
  {
   "cell_type": "code",
   "execution_count": 37,
   "metadata": {},
   "outputs": [
    {
     "data": {
      "text/plain": [
       "Text(0, 0.5, 'PRICE OF STOCK')"
      ]
     },
     "execution_count": 37,
     "metadata": {},
     "output_type": "execute_result"
    },
    {
     "data": {
      "image/png": "[encoded data removed]",
      "text/plain": [
       "<Figure size 432x288 with 1 Axes>"
      ]
     },
     "metadata": {
      "needs_background": "light"
     },
     "output_type": "display_data"
    }
   ],
   "source": [
    "plt.plot(df)\n",
    "plt.xlabel(\"TIME INTERVAL (DAYS)\")\n",
    "plt.ylabel(\"PRICE OF STOCK\")"
   ]
  },
  {
   "cell_type": "markdown",
   "metadata": {},
   "source": [
    "## The target value to be predicted is going to be the “Close” stock price value."
   ]
  },
  {
   "cell_type": "code",
   "execution_count": 38,
   "metadata": {},
   "outputs": [],
   "source": [
    "#Normalising the input values to feed into LSTM\n",
    "scaler=MinMaxScaler(feature_range=(0,1))\n",
    "df=scaler.fit_transform(np.array(df).reshape(-1,1))"
   ]
  },
  {
   "cell_type": "code",
   "execution_count": 39,
   "metadata": {},
   "outputs": [],
   "source": [
    "#df = np.array(df)\n",
    "train_size = int(len(df)*0.70)                        #Using 70 percent of dataset for training and rest for testing\n",
    "test_size = (len(df)-train_size)\n",
    "training = df[:train_size, :]\n",
    "test = df[train_size:len(df), :]"
   ]
  },
  {
   "cell_type": "code",
   "execution_count": 40,
   "metadata": {
    "scrolled": true
   },
   "outputs": [
    {
     "data": {
      "text/plain": [
       "((881, 1), (378, 1))"
      ]
     },
     "execution_count": 40,
     "metadata": {},
     "output_type": "execute_result"
    }
   ],
   "source": [
    "training.shape,test.shape"
   ]
  },
  {
   "cell_type": "code",
   "execution_count": 41,
   "metadata": {},
   "outputs": [],
   "source": [
    "time_step = 50                                                #Using the last 50 days to predict price for the 51st day\n",
    "X_train, Y_train, X_test, Y_test = [],[],[],[]\n",
    "#Preprocessing \n",
    "#Preparing training and testing datasets compatible with LSTM\n",
    "for i in range(len(training)-time_step):\n",
    "    x = training[i:(i+time_step), 0]        \n",
    "    X_train.append(x)\n",
    "    Y_train.append(training[i+time_step,0])\n",
    "for i in range(len(test)-time_step):\n",
    "    x = test[i:(i+time_step), 0]\n",
    "    X_test.append(x)\n",
    "    Y_test.append(test[i+time_step,0])\n",
    "X_train = np.array(X_train);\n",
    "Y_train = np.array(Y_train);\n",
    "X_test = np.array(X_test);\n",
    "Y_test = np.array(Y_test);"
   ]
  },
  {
   "cell_type": "code",
   "execution_count": 42,
   "metadata": {},
   "outputs": [],
   "source": [
    "X_train =X_train.reshape(X_train.shape[0],X_train.shape[1] , 1)\n",
    "X_test = X_test.reshape(X_test.shape[0],X_test.shape[1] , 1)"
   ]
  },
  {
   "cell_type": "code",
   "execution_count": 43,
   "metadata": {
    "scrolled": true
   },
   "outputs": [
    {
     "data": {
      "text/plain": [
       "((831, 50, 1), (831,))"
      ]
     },
     "execution_count": 43,
     "metadata": {},
     "output_type": "execute_result"
    }
   ],
   "source": [
    "X_train.shape, Y_train.shape"
   ]
  },
  {
   "cell_type": "code",
   "execution_count": 44,
   "metadata": {},
   "outputs": [],
   "source": [
    "model = Sequential()\n",
    "#Adding the first LSTM layer and some Dropout regularisation\n",
    "model.add(LSTM(units = 50, return_sequences = True, input_shape = (X_train.shape[1], 1)))\n",
    "model.add(Dropout(0.2))\n",
    "# Adding a second LSTM layer and some Dropout regularisation\n",
    "model.add(LSTM(units = 50, return_sequences = True))\n",
    "model.add(Dropout(0.2))\n",
    "# Adding a third LSTM layer\n",
    "model.add(LSTM(units = 50))\n",
    "# Adding the output layer\n",
    "model.add(Dense(units = 1))\n",
    "\n",
    "opt = Adam(lr=0.01, beta_1=0.9, beta_2=0.999, decay=0.01)\n",
    "# Compiling the RNN\n",
    "model.compile(optimizer = opt,  loss = 'mean_squared_error')"
   ]
  },
  {
   "cell_type": "code",
   "execution_count": 45,
   "metadata": {},
   "outputs": [
    {
     "name": "stdout",
     "output_type": "stream",
     "text": [
      "Model: \"sequential\"\n",
      "_________________________________________________________________\n",
      "Layer (type)                 Output Shape              Param #   \n",
      "=================================================================\n",
      "lstm (LSTM)                  (None, 50, 50)            10400     \n",
      "_________________________________________________________________\n",
      "dropout (Dropout)            (None, 50, 50)            0         \n",
      "_________________________________________________________________\n",
      "lstm_1 (LSTM)                (None, 50, 50)            20200     \n",
      "_________________________________________________________________\n",
      "dropout_1 (Dropout)          (None, 50, 50)            0         \n",
      "_________________________________________________________________\n",
      "lstm_2 (LSTM)                (None, 50)                20200     \n",
      "_________________________________________________________________\n",
      "dense (Dense)                (None, 1)                 51        \n",
      "=================================================================\n",
      "Total params: 50,851\n",
      "Trainable params: 50,851\n",
      "Non-trainable params: 0\n",
      "_________________________________________________________________\n"
     ]
    }
   ],
   "source": [
    "model.summary()"
   ]
  },
  {
   "cell_type": "code",
   "execution_count": 46,
   "metadata": {
    "scrolled": false
   },
   "outputs": [
    {
     "name": "stdout",
     "output_type": "stream",
     "text": [
      "Epoch 1/100\n",
      "13/13 [==============================] - 1s 59ms/step - loss: 0.0163\n",
      "Epoch 2/100\n",
      "13/13 [==============================] - 1s 54ms/step - loss: 9.3319e-04\n",
      "Epoch 3/100\n",
      "13/13 [==============================] - 1s 56ms/step - loss: 4.2176e-04\n",
      "Epoch 4/100\n",
      "13/13 [==============================] - 1s 56ms/step - loss: 2.5999e-04: 0s - loss: 2.82\n",
      "Epoch 5/100\n",
      "13/13 [==============================] - 1s 65ms/step - loss: 2.6585e-04\n",
      "Epoch 6/100\n",
      "13/13 [==============================] - 1s 82ms/step - loss: 2.2315e-04\n",
      "Epoch 7/100\n",
      "13/13 [==============================] - 1s 74ms/step - loss: 2.1130e-04\n",
      "Epoch 8/100\n",
      "13/13 [==============================] - 1s 61ms/step - loss: 2.1064e-04\n",
      "Epoch 9/100\n",
      "13/13 [==============================] - 1s 66ms/step - loss: 2.0534e-04\n",
      "Epoch 10/100\n",
      "13/13 [==============================] - 1s 70ms/step - loss: 2.1895e-04\n",
      "Epoch 11/100\n",
      "13/13 [==============================] - 1s 63ms/step - loss: 2.0260e-04: 0s - loss: 2.10\n",
      "Epoch 12/100\n",
      "13/13 [==============================] - 1s 61ms/step - loss: 2.0185e-04\n",
      "Epoch 13/100\n",
      "13/13 [==============================] - 1s 69ms/step - loss: 1.9530e-04\n",
      "Epoch 14/100\n",
      "13/13 [==============================] - 1s 67ms/step - loss: 2.0870e-04\n",
      "Epoch 15/100\n",
      "13/13 [==============================] - 1s 71ms/step - loss: 1.9446e-04\n",
      "Epoch 16/100\n",
      "13/13 [==============================] - 1s 76ms/step - loss: 1.8602e-04\n",
      "Epoch 17/100\n",
      "13/13 [==============================] - 1s 68ms/step - loss: 1.8914e-04\n",
      "Epoch 18/100\n",
      "13/13 [==============================] - 1s 62ms/step - loss: 1.7686e-04\n",
      "Epoch 19/100\n",
      "13/13 [==============================] - 1s 55ms/step - loss: 1.9042e-04\n",
      "Epoch 20/100\n",
      "13/13 [==============================] - 1s 55ms/step - loss: 1.7703e-04\n",
      "Epoch 21/100\n",
      "13/13 [==============================] - 1s 60ms/step - loss: 1.9787e-04\n",
      "Epoch 22/100\n",
      "13/13 [==============================] - 1s 62ms/step - loss: 1.9798e-04\n",
      "Epoch 23/100\n",
      "13/13 [==============================] - 1s 53ms/step - loss: 1.9248e-04\n",
      "Epoch 24/100\n",
      "13/13 [==============================] - 1s 57ms/step - loss: 1.7346e-04\n",
      "Epoch 25/100\n",
      "13/13 [==============================] - 1s 52ms/step - loss: 1.8839e-04\n",
      "Epoch 26/100\n",
      "13/13 [==============================] - 1s 52ms/step - loss: 1.9144e-04\n",
      "Epoch 27/100\n",
      "13/13 [==============================] - 1s 57ms/step - loss: 1.6728e-04\n",
      "Epoch 28/100\n",
      "13/13 [==============================] - 1s 53ms/step - loss: 1.7819e-04\n",
      "Epoch 29/100\n",
      "13/13 [==============================] - 1s 62ms/step - loss: 1.8005e-04\n",
      "Epoch 30/100\n",
      "13/13 [==============================] - 1s 64ms/step - loss: 1.8121e-04\n",
      "Epoch 31/100\n",
      "13/13 [==============================] - 1s 55ms/step - loss: 1.6942e-04: 0s - loss: 1.6502e\n",
      "Epoch 32/100\n",
      "13/13 [==============================] - 1s 52ms/step - loss: 1.7702e-04\n",
      "Epoch 33/100\n",
      "13/13 [==============================] - 1s 54ms/step - loss: 1.7562e-04\n",
      "Epoch 34/100\n",
      "13/13 [==============================] - 1s 53ms/step - loss: 1.7697e-04\n",
      "Epoch 35/100\n",
      "13/13 [==============================] - 1s 58ms/step - loss: 1.8657e-04: 0s - loss: 1.8435e-\n",
      "Epoch 36/100\n",
      "13/13 [==============================] - 1s 64ms/step - loss: 1.6758e-04\n",
      "Epoch 37/100\n",
      "13/13 [==============================] - 1s 60ms/step - loss: 1.6768e-04\n",
      "Epoch 38/100\n",
      "13/13 [==============================] - 1s 64ms/step - loss: 1.7256e-04\n",
      "Epoch 39/100\n",
      "13/13 [==============================] - 1s 75ms/step - loss: 1.7616e-04\n",
      "Epoch 40/100\n",
      "13/13 [==============================] - 1s 63ms/step - loss: 1.6993e-04\n",
      "Epoch 41/100\n",
      "13/13 [==============================] - 1s 58ms/step - loss: 1.8784e-04\n",
      "Epoch 42/100\n",
      "13/13 [==============================] - 1s 53ms/step - loss: 1.9018e-04: 0s - loss: 1.930\n",
      "Epoch 43/100\n",
      "13/13 [==============================] - 1s 50ms/step - loss: 1.6728e-04\n",
      "Epoch 44/100\n",
      "13/13 [==============================] - 1s 51ms/step - loss: 1.6819e-04\n",
      "Epoch 45/100\n",
      "13/13 [==============================] - 1s 69ms/step - loss: 1.7049e-04\n",
      "Epoch 46/100\n",
      "13/13 [==============================] - 1s 69ms/step - loss: 1.7065e-04\n",
      "Epoch 47/100\n",
      "13/13 [==============================] - 1s 68ms/step - loss: 1.7092e-04\n",
      "Epoch 48/100\n",
      "13/13 [==============================] - 1s 79ms/step - loss: 1.6179e-04\n",
      "Epoch 49/100\n",
      "13/13 [==============================] - 1s 66ms/step - loss: 1.6328e-04\n",
      "Epoch 50/100\n",
      "13/13 [==============================] - 1s 62ms/step - loss: 1.8540e-04\n",
      "Epoch 51/100\n",
      "13/13 [==============================] - 1s 62ms/step - loss: 1.7032e-04\n",
      "Epoch 52/100\n",
      "13/13 [==============================] - 1s 62ms/step - loss: 1.7591e-04\n",
      "Epoch 53/100\n",
      "13/13 [==============================] - 1s 53ms/step - loss: 1.6435e-04\n",
      "Epoch 54/100\n",
      "13/13 [==============================] - 1s 51ms/step - loss: 1.6439e-04\n",
      "Epoch 55/100\n",
      "13/13 [==============================] - 1s 53ms/step - loss: 1.6134e-04\n",
      "Epoch 56/100\n",
      "13/13 [==============================] - 1s 49ms/step - loss: 1.6702e-04\n",
      "Epoch 57/100\n",
      "13/13 [==============================] - 1s 51ms/step - loss: 1.6033e-04\n",
      "Epoch 58/100\n",
      "13/13 [==============================] - 1s 55ms/step - loss: 1.5139e-04\n",
      "Epoch 59/100\n",
      "13/13 [==============================] - 1s 65ms/step - loss: 1.6086e-04\n",
      "Epoch 60/100\n",
      "13/13 [==============================] - 1s 69ms/step - loss: 1.6145e-04\n",
      "Epoch 61/100\n",
      "13/13 [==============================] - 1s 67ms/step - loss: 1.5708e-04\n",
      "Epoch 62/100\n",
      "13/13 [==============================] - 1s 68ms/step - loss: 1.6495e-04\n",
      "Epoch 63/100\n",
      "13/13 [==============================] - 1s 52ms/step - loss: 1.5397e-04\n",
      "Epoch 64/100\n",
      "13/13 [==============================] - 1s 50ms/step - loss: 1.6125e-04\n",
      "Epoch 65/100\n",
      "13/13 [==============================] - 1s 72ms/step - loss: 1.5178e-04\n",
      "Epoch 66/100\n",
      "13/13 [==============================] - 1s 68ms/step - loss: 1.5476e-04\n",
      "Epoch 67/100\n",
      "13/13 [==============================] - 1s 59ms/step - loss: 1.7149e-04\n",
      "Epoch 68/100\n",
      "13/13 [==============================] - 1s 59ms/step - loss: 1.5411e-04\n",
      "Epoch 69/100\n",
      "13/13 [==============================] - 1s 58ms/step - loss: 1.5854e-04\n",
      "Epoch 70/100\n",
      "13/13 [==============================] - 1s 67ms/step - loss: 1.5600e-04\n",
      "Epoch 71/100\n",
      "13/13 [==============================] - 1s 54ms/step - loss: 1.6283e-04\n",
      "Epoch 72/100\n",
      "13/13 [==============================] - 1s 61ms/step - loss: 1.7080e-04\n",
      "Epoch 73/100\n",
      "13/13 [==============================] - 1s 65ms/step - loss: 1.5180e-04\n",
      "Epoch 74/100\n",
      "13/13 [==============================] - 1s 66ms/step - loss: 1.5873e-04\n",
      "Epoch 75/100\n",
      "13/13 [==============================] - 1s 64ms/step - loss: 1.6312e-04\n",
      "Epoch 76/100\n",
      "13/13 [==============================] - 1s 65ms/step - loss: 1.4609e-04\n",
      "Epoch 77/100\n",
      "13/13 [==============================] - 1s 56ms/step - loss: 1.6829e-04\n",
      "Epoch 78/100\n",
      "13/13 [==============================] - 1s 50ms/step - loss: 1.5005e-04\n",
      "Epoch 79/100\n",
      "13/13 [==============================] - 1s 50ms/step - loss: 1.5991e-04\n",
      "Epoch 80/100\n",
      "13/13 [==============================] - 1s 51ms/step - loss: 1.5796e-04\n",
      "Epoch 81/100\n",
      "13/13 [==============================] - 1s 53ms/step - loss: 1.5047e-04: 0s - loss:\n",
      "Epoch 82/100\n",
      "13/13 [==============================] - 1s 52ms/step - loss: 1.5907e-04\n",
      "Epoch 83/100\n",
      "13/13 [==============================] - 1s 58ms/step - loss: 1.4944e-04\n",
      "Epoch 84/100\n",
      "13/13 [==============================] - 1s 51ms/step - loss: 1.3973e-04\n",
      "Epoch 85/100\n",
      "13/13 [==============================] - 1s 52ms/step - loss: 1.5147e-04\n",
      "Epoch 86/100\n",
      "13/13 [==============================] - 1s 50ms/step - loss: 1.5883e-04\n",
      "Epoch 87/100\n",
      "13/13 [==============================] - 1s 52ms/step - loss: 1.4386e-04\n",
      "Epoch 88/100\n",
      "13/13 [==============================] - 1s 57ms/step - loss: 1.4567e-04\n",
      "Epoch 89/100\n",
      "13/13 [==============================] - 1s 50ms/step - loss: 1.5047e-04\n",
      "Epoch 90/100\n",
      "13/13 [==============================] - 1s 55ms/step - loss: 1.4711e-04\n",
      "Epoch 91/100\n",
      "13/13 [==============================] - 1s 72ms/step - loss: 1.4301e-04\n",
      "Epoch 92/100\n",
      "13/13 [==============================] - 1s 71ms/step - loss: 1.4339e-04\n",
      "Epoch 93/100\n",
      "13/13 [==============================] - 1s 61ms/step - loss: 1.5958e-04\n",
      "Epoch 94/100\n",
      "13/13 [==============================] - 1s 62ms/step - loss: 1.4779e-04\n",
      "Epoch 95/100\n"
     ]
    },
    {
     "name": "stdout",
     "output_type": "stream",
     "text": [
      "13/13 [==============================] - 1s 72ms/step - loss: 1.4676e-04\n",
      "Epoch 96/100\n",
      "13/13 [==============================] - 1s 65ms/step - loss: 1.3970e-04\n",
      "Epoch 97/100\n",
      "13/13 [==============================] - 1s 65ms/step - loss: 1.4278e-04\n",
      "Epoch 98/100\n",
      "13/13 [==============================] - 1s 62ms/step - loss: 1.5211e-04\n",
      "Epoch 99/100\n",
      "13/13 [==============================] - 1s 66ms/step - loss: 1.4018e-04\n",
      "Epoch 100/100\n",
      "13/13 [==============================] - 1s 56ms/step - loss: 1.5167e-04\n"
     ]
    },
    {
     "data": {
      "text/plain": [
       "<tensorflow.python.keras.callbacks.History at 0x1a061f8d648>"
      ]
     },
     "execution_count": 46,
     "metadata": {},
     "output_type": "execute_result"
    }
   ],
   "source": [
    "model.fit(X_train, Y_train, epochs = 100, batch_size = 64)"
   ]
  },
  {
   "cell_type": "code",
   "execution_count": 47,
   "metadata": {},
   "outputs": [
    {
     "data": {
      "text/plain": [
       "'2.3.1'"
      ]
     },
     "execution_count": 47,
     "metadata": {},
     "output_type": "execute_result"
    }
   ],
   "source": [
    "import tensorflow as tf\n",
    "tf.__version__\n"
   ]
  },
  {
   "cell_type": "code",
   "execution_count": 48,
   "metadata": {},
   "outputs": [],
   "source": [
    "testpred=model.predict(X_test)\n",
    "testpred=scaler.inverse_transform(testpred)\n",
    "trainpred = model.predict(X_train)\n",
    "trainpred = scaler.inverse_transform(trainpred)"
   ]
  },
  {
   "cell_type": "code",
   "execution_count": 49,
   "metadata": {},
   "outputs": [
    {
     "data": {
      "text/plain": [
       "168.10726990512177"
      ]
     },
     "execution_count": 49,
     "metadata": {},
     "output_type": "execute_result"
    }
   ],
   "source": [
    "math.sqrt(mean_squared_error(Y_train,trainpred))\n",
    "math.sqrt(mean_squared_error(Y_test,testpred))"
   ]
  },
  {
   "cell_type": "code",
   "execution_count": 50,
   "metadata": {
    "scrolled": true
   },
   "outputs": [
    {
     "data": {
      "image/png": "[encoded data removed]",
      "text/plain": [
       "<Figure size 432x288 with 1 Axes>"
      ]
     },
     "metadata": {
      "needs_background": "light"
     },
     "output_type": "display_data"
    }
   ],
   "source": [
    "testPredictPlot = np.empty_like(df)\n",
    "testPredictPlot[:, :] = np.nan\n",
    "testPredictPlot[len(Y_train)-2+(50*2)+1:len(df)-1, :] = testpred\n",
    "trainPredictPlot = np.empty_like(df)\n",
    "trainPredictPlot[:, :] = np.nan\n",
    "testPredictPlot[50:len(Y_train)+50, :] = trainpred\n",
    "plt.plot(scaler.inverse_transform(df))\n",
    "plt.plot(testPredictPlot)\n",
    "plt.plot(trainPredictPlot)\n",
    "plt.show()"
   ]
  },
  {
   "cell_type": "markdown",
   "metadata": {},
   "source": [
    "# Predicting for the next 30 days using the previous time step of 50"
   ]
  },
  {
   "cell_type": "code",
   "execution_count": 51,
   "metadata": {
    "scrolled": true
   },
   "outputs": [
    {
     "name": "stdout",
     "output_type": "stream",
     "text": [
      "(1, 50)\n"
     ]
    }
   ],
   "source": [
    "f=test[(len(test)-50):,:].reshape(1,-1)\n",
    "print(f.shape)\n",
    "X=list(f)\n",
    "X=X[0].tolist()"
   ]
  },
  {
   "cell_type": "markdown",
   "metadata": {},
   "source": [
    "### The cell code below takes the last 50 days and uses it to predict 51st day. It then appends the 51st day prediction to the dataset and predicts the 52nd day using last 50 days from the 52nd day, this includes the predicted price of the 51st day. \n",
    "### This happens for as many days as you want to predict, here, 30. "
   ]
  },
  {
   "cell_type": "code",
   "execution_count": 52,
   "metadata": {},
   "outputs": [
    {
     "name": "stdout",
     "output_type": "stream",
     "text": [
      "[[0.8049823641777039], [0.8006535768508911], [0.793199896812439], [0.7831699848175049], [0.7714911699295044], [0.7590938806533813], [0.7467261552810669], [0.7348908185958862], [0.7238583564758301], [0.7137165665626526], [0.7044328451156616], [0.6959097385406494], [0.6880282163619995], [0.68067467212677], [0.6737540364265442], [0.667194128036499], [0.6609427332878113], [0.65496426820755], [0.6492336392402649], [0.6437325477600098], [0.6384472250938416], [0.6333653330802917], [0.6284757256507874], [0.6237684488296509], [0.6192337870597839], [0.6148626208305359], [0.610646665096283], [0.6065775156021118], [0.6026486754417419], [0.5988526940345764]]\n"
     ]
    }
   ],
   "source": [
    "output= []\n",
    "for i in range(30):\n",
    "    if (len(X)>50):\n",
    "        f = np.array(X[-50:])\n",
    "        f = f.reshape(1,-1)\n",
    "        f = f.reshape((1, 50, 1))\n",
    "        yhat = model.predict(f) \n",
    "        X.extend(yhat[0].tolist())\n",
    "        output.extend(yhat.tolist())\n",
    "    else:\n",
    "        f = f.reshape((1,50,1))\n",
    "        yhat = model.predict(f) \n",
    "        X.extend(yhat[0].tolist())\n",
    "        output.extend(yhat.tolist())\n",
    "print(output)"
   ]
  },
  {
   "cell_type": "code",
   "execution_count": 53,
   "metadata": {},
   "outputs": [
    {
     "data": {
      "text/plain": [
       "Text(0, 0.5, 'PRICE OF STOCK')"
      ]
     },
     "execution_count": 53,
     "metadata": {},
     "output_type": "execute_result"
    },
    {
     "data": {
      "image/png": "[encoded data removed]",
      "text/plain": [
       "<Figure size 432x288 with 1 Axes>"
      ]
     },
     "metadata": {
      "needs_background": "light"
     },
     "output_type": "display_data"
    }
   ],
   "source": [
    "new = np.arange(1,31)\n",
    "plt.plot(new,scaler.inverse_transform(output))\n",
    "plt.title(\"PREDICTED STOCK PRICES (30 DAYS)\", fontsize=8, fontweight='bold')\n",
    "plt.xlabel(\"TIME INTERVAL (DAYS)\")\n",
    "plt.ylabel(\"PRICE OF STOCK\")"
   ]
  },
  {
   "cell_type": "code",
   "execution_count": 54,
   "metadata": {},
   "outputs": [
    {
     "data": {
      "text/plain": [
       "1259"
      ]
     },
     "execution_count": 54,
     "metadata": {},
     "output_type": "execute_result"
    }
   ],
   "source": [
    "len(df)"
   ]
  },
  {
   "cell_type": "code",
   "execution_count": 55,
   "metadata": {},
   "outputs": [
    {
     "data": {
      "text/plain": [
       "Text(0, 0.5, 'PRICE OF STOCK')"
      ]
     },
     "execution_count": 55,
     "metadata": {},
     "output_type": "execute_result"
    },
    {
     "data": {
      "image/png": "[encoded data removed]",
      "text/plain": [
       "<Figure size 432x288 with 1 Axes>"
      ]
     },
     "metadata": {
      "needs_background": "light"
     },
     "output_type": "display_data"
    }
   ],
   "source": [
    "#Previous prices in Blue\n",
    "#Predicted prices in Orange\n",
    "old=np.arange(1,51)\n",
    "new=np.arange(51,81)\n",
    "plt.plot(old, scaler.inverse_transform(df[1209:]))\n",
    "plt.plot(new, scaler.inverse_transform(output))\n",
    "plt.title(\"STOCK PRICES\", fontsize=8, fontweight='bold')\n",
    "plt.xlabel(\"TIME INTERVAL (DAYS)\")\n",
    "plt.ylabel(\"PRICE OF STOCK\")"
   ]
  },
  {
   "cell_type": "code",
   "execution_count": 56,
   "metadata": {},
   "outputs": [
    {
     "data": {
      "text/plain": [
       "Text(0, 0.5, 'PRICE OF STOCK')"
      ]
     },
     "execution_count": 56,
     "metadata": {},
     "output_type": "execute_result"
    },
    {
     "data": {
      "image/png": "[encoded data removed]",
      "text/plain": [
       "<Figure size 432x288 with 1 Axes>"
      ]
     },
     "metadata": {
      "needs_background": "light"
     },
     "output_type": "display_data"
    }
   ],
   "source": [
    "#Appending the predicted prices to the original dataset\n",
    "df_graph = df.tolist()\n",
    "df_graph.extend(output)\n",
    "plt.plot(df_graph)\n",
    "plt.title(\"STOCK PRICES\", fontsize=8, fontweight='bold')\n",
    "plt.xlabel(\"TIME INTERVAL (DAYS)\")\n",
    "plt.ylabel(\"PRICE OF STOCK\")"
   ]
  }
 ],
 "metadata": {
  "kernelspec": {
   "display_name": "Python 3",
   "language": "python",
   "name": "python3"
  },
  "language_info": {
   "codemirror_mode": {
    "name": "ipython",
    "version": 3
   },
   "file_extension": ".py",
   "mimetype": "text/x-python",
   "name": "python",
   "nbconvert_exporter": "python",
   "pygments_lexer": "ipython3",
   "version": "3.7.7"
  }
 },
 "nbformat": 4,
 "nbformat_minor": 4
}
